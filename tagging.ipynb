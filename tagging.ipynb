{
 "cells": [
  {
   "cell_type": "code",
   "execution_count": 6,
   "id": "96c4983f",
   "metadata": {},
   "outputs": [],
   "source": [
    "import requests\n",
    "import base64\n",
    "\n",
    "API_key = 'HawpKtgTFD6ZuOsRi2trh6JfceWTS8t04d0cU155'\n",
    "client_id = '__fziMDb6Lbt4Dc5QLNwhk9qRLKm5CC5QFJmtCJG'\n",
    "project_name = 'project1'\n",
    "base_url = 'https://m18px3fd0m.execute-api.eu-west-1.amazonaws.com/beta'\n",
    "\n",
    "headers = {\n",
    "    'x-api-key': API_key,\n",
    "\t'Content-Type': 'application/json'\n",
    "}"
   ]
  },
  {
   "cell_type": "markdown",
   "id": "28e0ea05",
   "metadata": {},
   "source": [
    "### upload csv"
   ]
  },
  {
   "cell_type": "code",
   "execution_count": null,
   "id": "5a130545",
   "metadata": {},
   "outputs": [],
   "source": [
    "# csv has to contain _text columns, better if it also contain an index column, so that the results can be merged\n",
    "with open('file1.csv', 'rb') as csvfile:\n",
    "    csv_bytes = csvfile.read()\n",
    "\n",
    "# encode the bytes to base64 for upload\n",
    "base64_string = base64.b64encode(csv_bytes).decode()"
   ]
  },
  {
   "cell_type": "code",
   "execution_count": 7,
   "id": "58641068",
   "metadata": {},
   "outputs": [
    {
     "data": {
      "text/plain": [
       "{'statuscode': 200,\n",
       " 'batch_id': '0',\n",
       " 'invalid_samples': [],\n",
       " 'outcome': 'batch added to queue'}"
      ]
     },
     "execution_count": 7,
     "metadata": {},
     "output_type": "execute_result"
    }
   ],
   "source": [
    "data = {\n",
    "\t\"client_id\": client_id,\n",
    "\t\"project_name\" : project_name,\n",
    "    \"batch_format\" : \"csv\",\n",
    "    \"csv_batch\" : base64_string,\n",
    "    \"batch_id\" : \"0\",\n",
    "    \"algorithm\" : \"simtag\"\n",
    "}\n",
    "\n",
    "url = f\"{base_url}/data/upload/add\"\n",
    "response = requests.post(url, json=data, headers=headers)\n",
    "output = response.json()\n",
    "output"
   ]
  },
  {
   "cell_type": "code",
   "execution_count": 8,
   "id": "b3257925",
   "metadata": {},
   "outputs": [
    {
     "data": {
      "text/plain": [
       "{'statuscode': 200, 'outcome': 'queue sent to processing'}"
      ]
     },
     "execution_count": 8,
     "metadata": {},
     "output_type": "execute_result"
    }
   ],
   "source": [
    "data = {\n",
    "\t\"client_id\": client_id,\n",
    "\t\"project_name\" : project_name,\n",
    "\t\"algorithm\" : 'simtag',\n",
    "\t\"max_tag_frequency\" : 0.12,\n",
    "\t\"generate_tag_list\" : True,\n",
    "\t\"store_metadata\": False\n",
    "}\n",
    "\n",
    "url = f\"{base_url}/data/process/start\"\n",
    "response = requests.post(url, json=data, headers=headers)\n",
    "output = response.json()\n",
    "output"
   ]
  },
  {
   "cell_type": "code",
   "execution_count": 12,
   "id": "ab17c6f9",
   "metadata": {},
   "outputs": [
    {
     "data": {
      "text/plain": [
       "{'statuscode': 200,\n",
       " 'outcome': {'covariate': 'successful', 'simtag': '0.25', 'fusion': None}}"
      ]
     },
     "execution_count": 12,
     "metadata": {},
     "output_type": "execute_result"
    }
   ],
   "source": [
    "data = {\n",
    "\t\"client_id\": client_id,\n",
    "\t\"project_name\" : project_name,\n",
    "\t\"algorithm\" : 'simtag'\n",
    "}\n",
    "\n",
    "url = f\"{base_url}/data/process/status\"\n",
    "response = requests.post(url, json=data, headers=headers)\n",
    "output = response.json()\n",
    "output"
   ]
  },
  {
   "cell_type": "markdown",
   "id": "dbb8e01b",
   "metadata": {},
   "source": [
    "### tag new file"
   ]
  },
  {
   "cell_type": "code",
   "execution_count": 20,
   "id": "607b7ffd",
   "metadata": {},
   "outputs": [
    {
     "data": {
      "text/plain": [
       "{'Kingship': {'score': 0.16701564192771912, 'relevance': 3},\n",
       " 'King min': {'score': 0.1399565488100052, 'relevance': 3},\n",
       " 'International relations': {'score': 0.0887313038110733, 'relevance': 3},\n",
       " 'Song dynasty': {'score': 0.0851813554763794, 'relevance': 2},\n",
       " 'Generals': {'score': 0.07136233150959015, 'relevance': 1},\n",
       " 'Progress': {'score': 0.06551215797662735, 'relevance': 1},\n",
       " 'Qin dynasty': {'score': 0.06479638814926147, 'relevance': 1},\n",
       " 'Warring states period': {'score': 0.04785929247736931, 'relevance': 1},\n",
       " 'Monarch': {'score': 0.03591788560152054, 'relevance': 0},\n",
       " 'Appointment': {'score': 0.03470383957028389, 'relevance': 0},\n",
       " 'Geography': {'score': 0.027489274740219116, 'relevance': 0},\n",
       " 'Stratagems': {'score': 0.02482464164495468, 'relevance': 0},\n",
       " 'Han dynasty': {'score': 0.023940466344356537, 'relevance': 0},\n",
       " 'Ancient text': {'score': 0.02288048528134823, 'relevance': 0},\n",
       " 'Sacrifice': {'score': 0.012373756617307663, 'relevance': 0},\n",
       " 'Earth': {'score': 0.005608716048300266, 'relevance': 0},\n",
       " 'Historical fiction': {'score': 0.0031802274752408266, 'relevance': 0},\n",
       " 'Vassalage': {'score': 0.0010452175047248602, 'relevance': 0}}"
      ]
     },
     "execution_count": 20,
     "metadata": {},
     "output_type": "execute_result"
    }
   ],
   "source": [
    "data = {\n",
    "\t\"client_id\" : client_id,\n",
    "\t\"project_name\" : project_name,\n",
    "\t\"text\": \"\"\"King of the east are preparing\"\"\",\n",
    "    \"minimum_encoding_relevance_score\" : 1 # default is 0\n",
    "}\n",
    "\n",
    "url = f\"{base_url}/tag/covariate_tagging\"\n",
    "response = requests.post(url, json=data, headers=headers)\n",
    "response.json()['tags']\n",
    "# response.json()['vector']"
   ]
  },
  {
   "cell_type": "code",
   "execution_count": 21,
   "id": "5ee9a108",
   "metadata": {},
   "outputs": [
    {
     "data": {
      "text/plain": [
       "[[0,\n",
       "  '{\"hash\": \"23a12b7d-bb2a-0add-99b2-a3dcb5a7be3c\", \"_tags\": [\"Warring states period\", \"Chu\", \"Chancellor\", \"Chinese philosophy\", \"Stratagems\", \"Shanxi province\", \"Interpretation\", \"Qin empire\", \"Vassalage\", \"Chinese symbolism\", \"Qin dynasty\"], \"tags_scores\": {\"Warring states period\": {\"score\": 0.2708660364151001, \"relevance\": 2}, \"Chu\": {\"score\": 0.19340451061725616, \"relevance\": 2}, \"Chancellor\": {\"score\": 0.14774174988269806, \"relevance\": 2}, \"Chinese philosophy\": {\"score\": 0.06431476026773453, \"relevance\": 1}, \"Stratagems\": {\"score\": 0.04488453269004822, \"relevance\": 1}, \"Shanxi province\": {\"score\": 0.031385842710733414, \"relevance\": 1}, \"Interpretation\": {\"score\": 0.0002129266067640856, \"relevance\": 1}, \"Qin empire\": {\"score\": -0.0889837032154901, \"relevance\": 1}, \"Vassalage\": {\"score\": -0.16336243208206724, \"relevance\": 1}, \"Chinese symbolism\": {\"score\": -0.2221653347805841, \"relevance\": 1}, \"Qin dynasty\": {\"score\": -0.2560541218117578, \"relevance\": 1}}}'],\n",
       " [1,\n",
       "  '{\"hash\": \"186a2311-d9fb-0442-8c35-d5919dd35f48\", \"_tags\": [\"Warring states period\", \"Song dynasty\", \"Stratagems\", \"Interpretation\", \"Poetry\"], \"tags_scores\": {\"Warring states period\": {\"score\": 0.2864375412464142, \"relevance\": 3}, \"Song dynasty\": {\"score\": 0.15002644062042236, \"relevance\": 3}, \"Stratagems\": {\"score\": 0.13215871155261993, \"relevance\": 3}, \"Interpretation\": {\"score\": 0.06085937097668648, \"relevance\": 2}, \"Poetry\": {\"score\": 0.05755366384983063, \"relevance\": 1}, \"Shanxi province\": {\"score\": 0.03513196483254433, \"relevance\": 0}, \"Imperialism\": {\"score\": 0.028528720140457153, \"relevance\": 0}, \"Judgment\": {\"score\": 0.0279795303940773, \"relevance\": 0}, \"Forgiveness\": {\"score\": 0.02783210761845112, \"relevance\": 0}, \"Obedience\": {\"score\": 0.02524733729660511, \"relevance\": 0}, \"Chinese-philosophy\": {\"score\": 0.021085526794195175, \"relevance\": 0}, \"Children\": {\"score\": 0.020788313820958138, \"relevance\": 0}, \"Sovereignty\": {\"score\": 0.01935342699289322, \"relevance\": 0}, \"Vassalage\": {\"score\": 0.016281845048069954, \"relevance\": 0}, \"Philology\": {\"score\": 0.013813270255923271, \"relevance\": 0}, \"Chinese symbolism\": {\"score\": -0.04133840091526508, \"relevance\": 0}}}'],\n",
       " [2,\n",
       "  '{\"hash\": \"33ff8417-5855-0e5d-8763-87763fa31596\", \"_tags\": [\"Warring states period\", \"Zhao\", \"Zhaoxiang\", \"Stratagems\", \"Threat\", \"International relations\", \"Chinese philosophy\", \"Generals\"], \"tags_scores\": {\"Warring states period\": {\"score\": 0.265882283449173, \"relevance\": 3}, \"Zhao\": {\"score\": 0.2525683045387268, \"relevance\": 3}, \"Zhaoxiang\": {\"score\": 0.10896237939596176, \"relevance\": 3}, \"Stratagems\": {\"score\": 0.09450755268335342, \"relevance\": 2}, \"Threat\": {\"score\": 0.035737305879592896, \"relevance\": 1}, \"International relations\": {\"score\": 0.01990898698568344, \"relevance\": 1}, \"Chinese philosophy\": {\"score\": 0.005018663126975298, \"relevance\": 1}, \"Generals\": {\"score\": 0.002672355156391859, \"relevance\": 1}, \"Imperialism\": {\"score\": 0.002577811013907194, \"relevance\": 0}, \"Qin empire\": {\"score\": -0.11824167566373944, \"relevance\": 0}, \"Han dynasty\": {\"score\": -0.2185147856362164, \"relevance\": 0}, \"Chinese symbolism\": {\"score\": -0.2508556810207665, \"relevance\": 0}, \"Interpretation\": {\"score\": -0.2817886811681092, \"relevance\": 0}}}'],\n",
       " [3,\n",
       "  '{\"hash\": \"05fe0842-3c3a-0c87-9e2c-71ac9f54cd3d\", \"_tags\": [\"Warring states period\", \"Zhao\", \"Zhaoxiang\", \"Interpretation\", \"Sovereignty\"], \"tags_scores\": {\"Warring states period\": {\"score\": 0.25570693612098694, \"relevance\": 3}, \"Zhao\": {\"score\": 0.1450161188840866, \"relevance\": 3}, \"Zhaoxiang\": {\"score\": 0.13969147205352783, \"relevance\": 3}, \"Interpretation\": {\"score\": 0.06610452383756638, \"relevance\": 2}, \"Sovereignty\": {\"score\": 0.04542650282382965, \"relevance\": 1}, \"Subordinates\": {\"score\": 0.04134506732225418, \"relevance\": 0}, \"Chinese-philosophy\": {\"score\": 0.036372631788253784, \"relevance\": 0}, \"Mencius\": {\"score\": 0.01520250178873539, \"relevance\": 0}, \"Imperialism\": {\"score\": 0.013189061544835567, \"relevance\": 0}, \"Stratagems\": {\"score\": 0.010948490351438522, \"relevance\": 0}, \"Qin empire\": {\"score\": -0.05440220609307289, \"relevance\": 0}, \"Vassalage\": {\"score\": -0.11888650432229042, \"relevance\": 0}, \"Chinese symbolism\": {\"score\": -0.16287501901388168, \"relevance\": 0}}}'],\n",
       " [4,\n",
       "  '{\"hash\": \"5243143b-1176-0f3e-be86-dc076cea0f5b\", \"_tags\": [\"Han dynasty\", \"Warring states period\", \"Stratagems\", \"Shanxi province\", \"Chinese-philosophy\", \"Sovereignty\"], \"tags_scores\": {\"Han dynasty\": {\"score\": 0.38100752234458923, \"relevance\": 3}, \"Warring states period\": {\"score\": 0.2783573865890503, \"relevance\": 3}, \"Stratagems\": {\"score\": 0.06755558401346207, \"relevance\": 3}, \"Shanxi province\": {\"score\": 0.06465749442577362, \"relevance\": 2}, \"Chinese-philosophy\": {\"score\": 0.026170654222369194, \"relevance\": 1}, \"Sovereignty\": {\"score\": 0.007092050742357969, \"relevance\": 1}, \"Chinese symbolism\": {\"score\": -0.04430403932929039, \"relevance\": 0}, \"Interpretation\": {\"score\": -0.12199776293709874, \"relevance\": 0}}}']]"
      ]
     },
     "execution_count": 21,
     "metadata": {},
     "output_type": "execute_result"
    }
   ],
   "source": [
    "data = {\n",
    "\t\"client_id\": client_id,\n",
    "\t\"project_name\" : project_name,\n",
    "\t\"algorithm\" : 'covariate'\n",
    "}\n",
    "\n",
    "url = f\"{base_url}/data/retrieve/export\"\n",
    "response = requests.post(url, json=data, headers=headers)\n",
    "output = response.json()\n",
    "output['data'][0:5]"
   ]
  }
 ],
 "metadata": {
  "kernelspec": {
   "display_name": "simtag",
   "language": "python",
   "name": "python3"
  },
  "language_info": {
   "codemirror_mode": {
    "name": "ipython",
    "version": 3
   },
   "file_extension": ".py",
   "mimetype": "text/x-python",
   "name": "python",
   "nbconvert_exporter": "python",
   "pygments_lexer": "ipython3",
   "version": "3.11.12"
  }
 },
 "nbformat": 4,
 "nbformat_minor": 5
}
