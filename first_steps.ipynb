{
 "cells": [
  {
   "cell_type": "markdown",
   "metadata": {},
   "source": [
    "Welcome to SimSearch! This tutorial will show you how to upload your data to simsearch and perform covariate search.<br>\n",
    "The first step will be to setup the project variables."
   ]
  },
  {
   "cell_type": "code",
   "execution_count": null,
   "metadata": {},
   "outputs": [],
   "source": [
    "import requests\n",
    "\n",
    "API_key = '<API_key>'\n",
    "base_url = 'https://m18px3fd0m.execute-api.eu-west-1.amazonaws.com/beta'\n",
    "\n",
    "client_id = '<client_id>'\n",
    "project_name = '<project_name>' # choose a custom project name"
   ]
  },
  {
   "cell_type": "markdown",
   "metadata": {},
   "source": [
    "## Create a new project\n",
    "\n",
    "Our first step is creating a project. A project is essentially a space where you can upload your data.<br>\n",
    "Once you will start to perform covariate searches, it will only take into account the data uploaded to a project."
   ]
  },
  {
   "cell_type": "code",
   "execution_count": 74,
   "metadata": {},
   "outputs": [
    {
     "data": {
      "text/plain": [
       "{'statuscode': 200, 'outcome': 'project has been created'}"
      ]
     },
     "execution_count": 74,
     "metadata": {},
     "output_type": "execute_result"
    }
   ],
   "source": [
    "headers = {\n",
    "\t'x-api-key': API_key,\n",
    "\t'Content-Type': 'application/json'\n",
    "}\n",
    "\n",
    "data = {\n",
    "\t\"client_id\": client_id,\n",
    "\t\"project_name\": project_name, #project_name\n",
    "}\n",
    "\n",
    "url = f\"{base_url}/project/create\"\n",
    "response = requests.post(url, json=data, headers=headers)\n",
    "response.json()"
   ]
  },
  {
   "cell_type": "markdown",
   "metadata": {},
   "source": [
    "Every project has a limit of samples and tags that you can request to extend.<br><br>\n",
    "Now that we have created a new project, let us now check the project limit:<br>\n",
    "your plan allows for a maximum of 20.000 samples and 1000 unique tags."
   ]
  },
  {
   "cell_type": "code",
   "execution_count": 75,
   "metadata": {},
   "outputs": [
    {
     "data": {
      "text/plain": [
       "{'statuscode': 200,\n",
       " 'stats': {'limit': {'tags': 1000, 'samples': 50000},\n",
       "  'hosting': {},\n",
       "  'storage': {'samples_processed': 0,\n",
       "   'samples_uploaded': 0,\n",
       "   'tags_processed': 0,\n",
       "   'tag_uploaded': 0},\n",
       "  'processing_id': '875f38c1-901e-48e2-bdd9-a28d684e4e9a'}}"
      ]
     },
     "execution_count": 75,
     "metadata": {},
     "output_type": "execute_result"
    }
   ],
   "source": [
    "headers = {\n",
    "\t'x-api-key': API_key,\n",
    "\t'Content-Type': 'application/json'\n",
    "}\n",
    "\n",
    "data = {\n",
    "\t\"client_id\": client_id,\n",
    "\t\"project_name\" : project_name\n",
    "}\n",
    "\n",
    "url = f\"{base_url}/project/list_stats\"\n",
    "response = requests.post(url, json=data, headers=headers)\n",
    "response.json()"
   ]
  },
  {
   "cell_type": "markdown",
   "metadata": {},
   "source": [
    "## Prepare your data\n",
    "\n",
    "To prepare your data, you need to follow two steps:<br>\n",
    "1. **Upload**<br>\n",
    "Coviarate search, is different from semantic search: a model needs to be prepared **on a set of unique tags**, <br>\n",
    "which means that you will have to first upload all your data in a dedicated space. \n",
    "\n",
    "2. **Processing**<br>\n",
    "Simsearch will create a lightweigth model out of that initial data: this phase is called **processing**.\n",
    "\n",
    "We can start loading the Steam library in a pandas dataframe.<br>\n",
    "To upload the data into our API, it will have to be converted into a list of dictionaries.<br>\n",
    "\n",
    "There are two mandatory fields when uploading our data:\n",
    "- **_id**\n",
    "- **_tags**\n",
    "\n",
    "We can start by renaming our columns accordingly."
   ]
  },
  {
   "cell_type": "code",
   "execution_count": 2,
   "metadata": {},
   "outputs": [
    {
     "data": {
      "text/html": [
       "<div>\n",
       "<style scoped>\n",
       "    .dataframe tbody tr th:only-of-type {\n",
       "        vertical-align: middle;\n",
       "    }\n",
       "\n",
       "    .dataframe tbody tr th {\n",
       "        vertical-align: top;\n",
       "    }\n",
       "\n",
       "    .dataframe thead th {\n",
       "        text-align: right;\n",
       "    }\n",
       "</style>\n",
       "<table border=\"1\" class=\"dataframe\">\n",
       "  <thead>\n",
       "    <tr style=\"text-align: right;\">\n",
       "      <th></th>\n",
       "      <th>_id</th>\n",
       "      <th>name</th>\n",
       "      <th>_tags</th>\n",
       "    </tr>\n",
       "  </thead>\n",
       "  <tbody>\n",
       "    <tr>\n",
       "      <th>0</th>\n",
       "      <td>0</td>\n",
       "      <td>Galactic Bowling</td>\n",
       "      <td>[Indie, Casual, Sports, Bowling]</td>\n",
       "    </tr>\n",
       "    <tr>\n",
       "      <th>1</th>\n",
       "      <td>1</td>\n",
       "      <td>Train Bandit</td>\n",
       "      <td>[Indie, Action, Pixel Graphics, 2D, Retro, Arc...</td>\n",
       "    </tr>\n",
       "    <tr>\n",
       "      <th>2</th>\n",
       "      <td>2</td>\n",
       "      <td>TD Worlds</td>\n",
       "      <td>[Tower Defense, Rogue-lite, RTS, Replay Value,...</td>\n",
       "    </tr>\n",
       "    <tr>\n",
       "      <th>3</th>\n",
       "      <td>3</td>\n",
       "      <td>MazM: Jekyll and Hyde</td>\n",
       "      <td>[Adventure, Simulation, RPG, Strategy, Singlep...</td>\n",
       "    </tr>\n",
       "    <tr>\n",
       "      <th>4</th>\n",
       "      <td>4</td>\n",
       "      <td>Deadlings: Rotten Edition</td>\n",
       "      <td>[Action, Indie, Adventure, Puzzle-Platformer, ...</td>\n",
       "    </tr>\n",
       "    <tr>\n",
       "      <th>...</th>\n",
       "      <td>...</td>\n",
       "      <td>...</td>\n",
       "      <td>...</td>\n",
       "    </tr>\n",
       "    <tr>\n",
       "      <th>41890</th>\n",
       "      <td>41890</td>\n",
       "      <td>Drop Doll</td>\n",
       "      <td>[Mature, Sexual Content, Casual, Relaxing, NSF...</td>\n",
       "    </tr>\n",
       "    <tr>\n",
       "      <th>41891</th>\n",
       "      <td>41891</td>\n",
       "      <td>Ant Farm Simulator</td>\n",
       "      <td>[Simulation, Casual, Sandbox, Farming Sim, Lif...</td>\n",
       "    </tr>\n",
       "    <tr>\n",
       "      <th>41892</th>\n",
       "      <td>41892</td>\n",
       "      <td>The Holyburn Witches</td>\n",
       "      <td>[Casual, Adventure, Point &amp; Click, Exploration...</td>\n",
       "    </tr>\n",
       "    <tr>\n",
       "      <th>41893</th>\n",
       "      <td>41893</td>\n",
       "      <td>Digital Girlfriend</td>\n",
       "      <td>[Casual, Sexual Content, Nudity, Adventure, Ma...</td>\n",
       "    </tr>\n",
       "    <tr>\n",
       "      <th>41894</th>\n",
       "      <td>41894</td>\n",
       "      <td>Above the Hill</td>\n",
       "      <td>[Adventure, Action-Adventure, Exploration, FPS...</td>\n",
       "    </tr>\n",
       "  </tbody>\n",
       "</table>\n",
       "<p>41895 rows × 3 columns</p>\n",
       "</div>"
      ],
      "text/plain": [
       "         _id                       name  \\\n",
       "0          0           Galactic Bowling   \n",
       "1          1               Train Bandit   \n",
       "2          2                  TD Worlds   \n",
       "3          3      MazM: Jekyll and Hyde   \n",
       "4          4  Deadlings: Rotten Edition   \n",
       "...      ...                        ...   \n",
       "41890  41890                  Drop Doll   \n",
       "41891  41891         Ant Farm Simulator   \n",
       "41892  41892       The Holyburn Witches   \n",
       "41893  41893         Digital Girlfriend   \n",
       "41894  41894             Above the Hill   \n",
       "\n",
       "                                                   _tags  \n",
       "0                       [Indie, Casual, Sports, Bowling]  \n",
       "1      [Indie, Action, Pixel Graphics, 2D, Retro, Arc...  \n",
       "2      [Tower Defense, Rogue-lite, RTS, Replay Value,...  \n",
       "3      [Adventure, Simulation, RPG, Strategy, Singlep...  \n",
       "4      [Action, Indie, Adventure, Puzzle-Platformer, ...  \n",
       "...                                                  ...  \n",
       "41890  [Mature, Sexual Content, Casual, Relaxing, NSF...  \n",
       "41891  [Simulation, Casual, Sandbox, Farming Sim, Lif...  \n",
       "41892  [Casual, Adventure, Point & Click, Exploration...  \n",
       "41893  [Casual, Sexual Content, Nudity, Adventure, Ma...  \n",
       "41894  [Adventure, Action-Adventure, Exploration, FPS...  \n",
       "\n",
       "[41895 rows x 3 columns]"
      ]
     },
     "execution_count": 2,
     "metadata": {},
     "output_type": "execute_result"
    }
   ],
   "source": [
    "import pandas as pd\n",
    "\n",
    "# make sure to use dropna() to avoid breaking the API with nan data\n",
    "df = pd.read_parquet('games.parquet').dropna()\n",
    "df = df[['Name', 'Tags']]\n",
    "# make sure the ids and the indexes are aligned\n",
    "df = df.reset_index(drop=True)\n",
    "df = df.reset_index()\n",
    "df.columns = ['_id', 'name', '_tags']\n",
    "df['_tags'] = df['_tags'].apply(lambda x : x.split(','))\n",
    "df"
   ]
  },
  {
   "cell_type": "markdown",
   "metadata": {},
   "source": [
    "The data needs to be prepared in list of dictionaries, weach one called **batch**: each dictionary in a batch contains a **unique id**.<br>\n",
    "In the following example, we are splitting our data into 9 batches of 5000 samples each (the last batch will count of the excess 193 samples)."
   ]
  },
  {
   "cell_type": "code",
   "execution_count": 3,
   "metadata": {},
   "outputs": [
    {
     "data": {
      "text/plain": [
       "[{'_id': 0,\n",
       "  'name': 'Galactic Bowling',\n",
       "  '_tags': ['Indie', 'Casual', 'Sports', 'Bowling']},\n",
       " {'_id': 1,\n",
       "  'name': 'Train Bandit',\n",
       "  '_tags': ['Indie',\n",
       "   'Action',\n",
       "   'Pixel Graphics',\n",
       "   '2D',\n",
       "   'Retro',\n",
       "   'Arcade',\n",
       "   'Score Attack',\n",
       "   'Minimalist',\n",
       "   'Comedy',\n",
       "   'Singleplayer',\n",
       "   'Fast-Paced',\n",
       "   'Casual',\n",
       "   'Funny',\n",
       "   'Parody',\n",
       "   'Difficult',\n",
       "   'Gore',\n",
       "   'Violent',\n",
       "   'Western',\n",
       "   'Controller',\n",
       "   'Blood']},\n",
       " {'_id': 2,\n",
       "  'name': 'TD Worlds',\n",
       "  '_tags': ['Tower Defense',\n",
       "   'Rogue-lite',\n",
       "   'RTS',\n",
       "   'Replay Value',\n",
       "   'Perma Death',\n",
       "   '2D',\n",
       "   'Isometric',\n",
       "   'Difficult',\n",
       "   'Rogue-like',\n",
       "   'Dynamic Narration',\n",
       "   'Stylized',\n",
       "   'Real Time Tactics',\n",
       "   'Strategy',\n",
       "   'Minimalist',\n",
       "   'Abstract',\n",
       "   'Tactical',\n",
       "   'Atmospheric',\n",
       "   'Singleplayer',\n",
       "   'Sci-fi',\n",
       "   'Mystery']}]"
      ]
     },
     "execution_count": 3,
     "metadata": {},
     "output_type": "execute_result"
    }
   ],
   "source": [
    "def create_ranges(n, length):\n",
    "    ranges = []\n",
    "    start = 0\n",
    "    while start < n:\n",
    "        end = min(start + length, n)\n",
    "        ranges.append([start, end])\n",
    "        start += length\n",
    "    return ranges\n",
    "\n",
    "# 8 batches of 5000 each\n",
    "ranges = create_ranges(n=len(df), length=5000)\n",
    "\n",
    "json_batch_list = list()\n",
    "for r in ranges:\n",
    "\tdict_list = df.to_dict(orient='records')[r[0]:r[1]]\n",
    "\tjson_batch_list.append(dict_list)\n",
    "     \n",
    "# let us have a look at one batch\n",
    "json_batch_list[0][0:3]"
   ]
  },
  {
   "cell_type": "markdown",
   "metadata": {},
   "source": [
    "### Upload\n",
    "\n",
    "We can proceed to upload our dataset!"
   ]
  },
  {
   "cell_type": "code",
   "execution_count": 78,
   "metadata": {},
   "outputs": [
    {
     "name": "stdout",
     "output_type": "stream",
     "text": [
      "{'statuscode': 200, 'batch_id': '0', 'outcome': 'batch added to queue'}\n",
      "{'statuscode': 200, 'batch_id': '1', 'outcome': 'batch added to queue'}\n",
      "{'statuscode': 200, 'batch_id': '2', 'outcome': 'batch added to queue'}\n",
      "{'statuscode': 200, 'batch_id': '3', 'outcome': 'batch added to queue'}\n",
      "{'statuscode': 200, 'batch_id': '4', 'outcome': 'batch added to queue'}\n",
      "{'statuscode': 200, 'batch_id': '5', 'outcome': 'batch added to queue'}\n",
      "{'statuscode': 200, 'batch_id': '6', 'outcome': 'batch added to queue'}\n",
      "{'statuscode': 200, 'batch_id': '7', 'outcome': 'batch added to queue'}\n",
      "{'statuscode': 200, 'batch_id': '8', 'outcome': 'batch added to queue'}\n"
     ]
    }
   ],
   "source": [
    "for batch_index in range(len(json_batch_list)):\n",
    "\tdata = {\n",
    "\t\t\"client_id\": client_id,\n",
    "\t\t\"project_name\" : project_name,\n",
    "\t\t\"json_batch\" : json_batch_list[batch_index],\n",
    "\t\t\"batch_id\" : str(batch_index),\n",
    "\t}\n",
    "\n",
    "\turl = f\"{base_url}/data/upload/add\"\n",
    "\tresponse = requests.post(url, json=data, headers=headers)\n",
    "\tprint(response.json())"
   ]
  },
  {
   "cell_type": "markdown",
   "metadata": {},
   "source": [
    "Remember that the data will not be processed until we call the **/data/process/start** command.<br>\n",
    "This means that we are free to add/remove our batches at any time. We can always check out the list of uploaded batches with the following command:"
   ]
  },
  {
   "cell_type": "code",
   "execution_count": 79,
   "metadata": {},
   "outputs": [
    {
     "data": {
      "text/plain": [
       "{'statuscode': 200,\n",
       " 'to_process_list': ['8', '0', '4', '2', '6', '1', '5', '3', '7']}"
      ]
     },
     "execution_count": 79,
     "metadata": {},
     "output_type": "execute_result"
    }
   ],
   "source": [
    "headers = {\n",
    "\t'x-api-key': API_key,\n",
    "\t'Content-Type': 'application/json'\n",
    "}\n",
    "\n",
    "data = {\n",
    "\t\"client_id\": client_id,\n",
    "\t\"project_name\" : project_name,\n",
    "}\n",
    "\n",
    "url = f\"{base_url}/data/upload/list_batches\"\n",
    "response = requests.post(url, json=data, headers=headers)\n",
    "response.json()"
   ]
  },
  {
   "cell_type": "markdown",
   "metadata": {},
   "source": [
    "In addition, we can always check how many unique ids and tags have been uploaded by calling **/project/list_stats**<br>\n",
    "As we can see, we have successfully uploaded 41895 ids, for a total of 446 tags"
   ]
  },
  {
   "cell_type": "code",
   "execution_count": 80,
   "metadata": {},
   "outputs": [
    {
     "data": {
      "text/plain": [
       "{'statuscode': 200,\n",
       " 'stats': {'limit': {'tags': 1000, 'samples': 50000},\n",
       "  'hosting': {},\n",
       "  'storage': {'samples_processed': 0,\n",
       "   'samples_uploaded': 41895,\n",
       "   'tags_processed': 0,\n",
       "   'tag_uploaded': 446},\n",
       "  'processing_id': '875f38c1-901e-48e2-bdd9-a28d684e4e9a'}}"
      ]
     },
     "execution_count": 80,
     "metadata": {},
     "output_type": "execute_result"
    }
   ],
   "source": [
    "headers = {\n",
    "\t'x-api-key': API_key,\n",
    "\t'Content-Type': 'application/json'\n",
    "}\n",
    "\n",
    "data = {\n",
    "\t\"client_id\": client_id,\n",
    "\t\"project_name\" : project_name\n",
    "}\n",
    "\n",
    "url = f\"{base_url}/project/list_stats\"\n",
    "response = requests.post(url, json=data, headers=headers)\n",
    "response.json()"
   ]
  },
  {
   "cell_type": "markdown",
   "metadata": {},
   "source": [
    "### Process\n",
    "\n",
    "We can start processing our data with the following endpoint.<br>\n",
    "All our batches will be removed from the upload queue and sent to processing, which means if that we check our uploaded queue again, it will be empty."
   ]
  },
  {
   "cell_type": "code",
   "execution_count": 81,
   "metadata": {},
   "outputs": [
    {
     "data": {
      "text/plain": [
       "{'statuscode': 200, 'outcome': 'queue sent to processing'}"
      ]
     },
     "execution_count": 81,
     "metadata": {},
     "output_type": "execute_result"
    }
   ],
   "source": [
    "headers = {\n",
    "\t'x-api-key': API_key,\n",
    "\t'Content-Type': 'application/json'\n",
    "}\n",
    "\n",
    "data = {\n",
    "\t\"client_id\": client_id,\n",
    "\t\"project_name\" : project_name\n",
    "}\n",
    "\n",
    "url = f\"{base_url}/data/process/start\"\n",
    "response = requests.post(url, json=data, headers=headers)\n",
    "response.json()"
   ]
  },
  {
   "cell_type": "markdown",
   "metadata": {},
   "source": [
    "Just after your data has been processed, you can check the status of the queue: initially, it will be shown as **\"queued\"**.<br>When the processing will begin, the status will change to **\"in_progress\"**.<br>\n",
    "After the processing has completed (this may take several minutes, depending on the overall demand), the status will change into **\"successful\"** or **\"failed\"**.<br>\n",
    "Note that whenever you decide to process your data to create the encoding model, it will overwrite the available data."
   ]
  },
  {
   "cell_type": "code",
   "execution_count": 86,
   "metadata": {},
   "outputs": [
    {
     "data": {
      "text/plain": [
       "{'statuscode': 200, 'outcome': 'successful'}"
      ]
     },
     "execution_count": 86,
     "metadata": {},
     "output_type": "execute_result"
    }
   ],
   "source": [
    "headers = {\n",
    "\t'x-api-key': API_key,\n",
    "\t'Content-Type': 'application/json'\n",
    "}\n",
    "\n",
    "data = {\n",
    "\t\"client_id\": client_id,\n",
    "\t\"project_name\" : project_name\n",
    "}\n",
    "\n",
    "url = f\"{base_url}/data/process/status\"\n",
    "response = requests.post(url, json=data, headers=headers)\n",
    "response.json()"
   ]
  },
  {
   "cell_type": "markdown",
   "metadata": {},
   "source": [
    "## Search\n",
    "\n",
    "Our data is ready to be searched! We can perform a covariate search by inputting the tag list we wish to find and the number of desired results (k).><br>\n",
    "You can choose up to a limit of k=100. "
   ]
  },
  {
   "cell_type": "code",
   "execution_count": 9,
   "metadata": {},
   "outputs": [
    {
     "data": {
      "text/plain": [
       "[{'name': 'Shadowrain',\n",
       "  '_tags': ['Indie',\n",
       "   'Horror',\n",
       "   'Dystopian',\n",
       "   'Psychological Horror',\n",
       "   'Sci-fi',\n",
       "   'Survival Horror'],\n",
       "  '_id': '18731'},\n",
       " {'name': 'WREST',\n",
       "  '_tags': ['Adventure', 'VR', 'Horror', 'Sci-fi', 'Mystery'],\n",
       "  '_id': '2075'},\n",
       " {'name': 'Quadrant',\n",
       "  '_tags': ['Indie',\n",
       "   'Horror',\n",
       "   'Sci-fi',\n",
       "   'Survival Horror',\n",
       "   'Stealth',\n",
       "   'Atmospheric'],\n",
       "  '_id': '3141'},\n",
       " {'name': 'Smile',\n",
       "  '_tags': ['Indie',\n",
       "   'Strategy',\n",
       "   'Horror',\n",
       "   'First-Person',\n",
       "   'Survival Horror',\n",
       "   'Thriller',\n",
       "   'Singleplayer',\n",
       "   'Psychological Horror',\n",
       "   'Sci-fi',\n",
       "   'Futuristic'],\n",
       "  '_id': '20942'},\n",
       " {'name': 'Hollow',\n",
       "  '_tags': ['Horror',\n",
       "   'Nudity',\n",
       "   'Gore',\n",
       "   'Action',\n",
       "   'Adventure',\n",
       "   'Violent',\n",
       "   'Indie',\n",
       "   'Survival Horror',\n",
       "   'Sci-fi',\n",
       "   'FPS'],\n",
       "  '_id': '20685'}]"
      ]
     },
     "execution_count": 9,
     "metadata": {},
     "output_type": "execute_result"
    }
   ],
   "source": [
    "headers = {\n",
    "\t'x-api-key': API_key,\n",
    "\t'Content-Type': 'application/json'\n",
    "}\n",
    "\n",
    "data = {\n",
    "\t\"client_id\": client_id,\n",
    "    \"API_key\": \"\",\n",
    "\t\"project_name\": project_name,\n",
    "\t\"query_tag_list\": ['Horror', 'Sci-fi'],\n",
    "\t\"k\": 5\n",
    "}\n",
    "\n",
    "url = f\"{base_url}/search/covariate\"\n",
    "response = requests.post(url, json=data, headers=headers)\n",
    "response.json()['hits']"
   ]
  }
 ],
 "metadata": {
  "kernelspec": {
   "display_name": "env1",
   "language": "python",
   "name": "python3"
  },
  "language_info": {
   "codemirror_mode": {
    "name": "ipython",
    "version": 3
   },
   "file_extension": ".py",
   "mimetype": "text/x-python",
   "name": "python",
   "nbconvert_exporter": "python",
   "pygments_lexer": "ipython3",
   "version": "3.11.9"
  }
 },
 "nbformat": 4,
 "nbformat_minor": 2
}
